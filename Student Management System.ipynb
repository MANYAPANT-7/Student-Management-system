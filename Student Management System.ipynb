{
 "cells": [
  {
   "cell_type": "code",
   "execution_count": 25,
   "id": "418a2700-d99f-4a06-94ae-846efab5500a",
   "metadata": {},
   "outputs": [
    {
     "name": "stdout",
     "output_type": "stream",
     "text": [
      "\n",
      "--- Student Management System ---\n",
      "1. Add a Student\n",
      "2. Update Fees Status\n",
      "3. Assign Teacher to a Student\n",
      "4. Save Students to CSV\n",
      "5. Load Students from CSV\n",
      "6. Display Students\n",
      "7. Exit\n"
     ]
    },
    {
     "name": "stdin",
     "output_type": "stream",
     "text": [
      "Enter your choice (1-7):  1\n",
      "Enter student's name:  Nisha\n",
      "Enter student's age:  19\n",
      "Enter student's course:  Python\n"
     ]
    },
    {
     "name": "stdout",
     "output_type": "stream",
     "text": [
      "Student Nisha added successfully!\n",
      "\n",
      "--- Student Management System ---\n",
      "1. Add a Student\n",
      "2. Update Fees Status\n",
      "3. Assign Teacher to a Student\n",
      "4. Save Students to CSV\n",
      "5. Load Students from CSV\n",
      "6. Display Students\n",
      "7. Exit\n"
     ]
    },
    {
     "name": "stdin",
     "output_type": "stream",
     "text": [
      "Enter your choice (1-7):  2\n",
      "Enter student ID to update fees status:  2\n",
      "Has the student paid the fees? (yes/no):  no\n"
     ]
    },
    {
     "name": "stdout",
     "output_type": "stream",
     "text": [
      "Fees status updated for Student ID 2\n",
      "\n",
      "--- Student Management System ---\n",
      "1. Add a Student\n",
      "2. Update Fees Status\n",
      "3. Assign Teacher to a Student\n",
      "4. Save Students to CSV\n",
      "5. Load Students from CSV\n",
      "6. Display Students\n",
      "7. Exit\n"
     ]
    },
    {
     "name": "stdin",
     "output_type": "stream",
     "text": [
      "Enter your choice (1-7):  6\n"
     ]
    },
    {
     "name": "stdout",
     "output_type": "stream",
     "text": [
      "\n",
      "--- Student Records ---\n",
      "ID: 1, Name: Manya, Age: 19, Course: Python, Fees Paid: 0\n",
      "ID: 2, Name: Nisha, Age: 19, Course: Python, Fees Paid: 0\n",
      "-----------------------\n",
      "\n",
      "--- Student Management System ---\n",
      "1. Add a Student\n",
      "2. Update Fees Status\n",
      "3. Assign Teacher to a Student\n",
      "4. Save Students to CSV\n",
      "5. Load Students from CSV\n",
      "6. Display Students\n",
      "7. Exit\n"
     ]
    },
    {
     "name": "stdin",
     "output_type": "stream",
     "text": [
      "Enter your choice (1-7):  3\n",
      "Enter teacher's name:  Anu\n",
      "Enter teacher's subject:  Python\n",
      "Enter student ID to assign teacher to:  2\n"
     ]
    },
    {
     "name": "stdout",
     "output_type": "stream",
     "text": [
      "Teacher Anu assigned to Student ID 2\n",
      "\n",
      "--- Student Management System ---\n",
      "1. Add a Student\n",
      "2. Update Fees Status\n",
      "3. Assign Teacher to a Student\n",
      "4. Save Students to CSV\n",
      "5. Load Students from CSV\n",
      "6. Display Students\n",
      "7. Exit\n"
     ]
    },
    {
     "name": "stdin",
     "output_type": "stream",
     "text": [
      "Enter your choice (1-7):  4\n",
      "Enter the file name to save student data (e.g., students.csv):  7\n"
     ]
    },
    {
     "name": "stdout",
     "output_type": "stream",
     "text": [
      "Student data saved to 7\n",
      "\n",
      "--- Student Management System ---\n",
      "1. Add a Student\n",
      "2. Update Fees Status\n",
      "3. Assign Teacher to a Student\n",
      "4. Save Students to CSV\n",
      "5. Load Students from CSV\n",
      "6. Display Students\n",
      "7. Exit\n"
     ]
    },
    {
     "name": "stdin",
     "output_type": "stream",
     "text": [
      "Enter your choice (1-7):  4\n",
      "Enter the file name to save student data (e.g., students.csv):  Students.csv\n"
     ]
    },
    {
     "name": "stdout",
     "output_type": "stream",
     "text": [
      "Student data saved to Students.csv\n",
      "\n",
      "--- Student Management System ---\n",
      "1. Add a Student\n",
      "2. Update Fees Status\n",
      "3. Assign Teacher to a Student\n",
      "4. Save Students to CSV\n",
      "5. Load Students from CSV\n",
      "6. Display Students\n",
      "7. Exit\n"
     ]
    },
    {
     "name": "stdin",
     "output_type": "stream",
     "text": [
      "Enter your choice (1-7):  6\n"
     ]
    },
    {
     "name": "stdout",
     "output_type": "stream",
     "text": [
      "\n",
      "--- Student Records ---\n",
      "ID: 1, Name: Manya, Age: 19, Course: Python, Fees Paid: 0\n",
      "ID: 2, Name: Nisha, Age: 19, Course: Python, Fees Paid: 0\n",
      "-----------------------\n",
      "\n",
      "--- Student Management System ---\n",
      "1. Add a Student\n",
      "2. Update Fees Status\n",
      "3. Assign Teacher to a Student\n",
      "4. Save Students to CSV\n",
      "5. Load Students from CSV\n",
      "6. Display Students\n",
      "7. Exit\n"
     ]
    },
    {
     "name": "stdin",
     "output_type": "stream",
     "text": [
      "Enter your choice (1-7):  7\n"
     ]
    },
    {
     "name": "stdout",
     "output_type": "stream",
     "text": [
      "Exiting the program...\n"
     ]
    }
   ],
   "source": [
    "import mysql.connector\n",
    "import csv\n",
    "\n",
    "# Connect to the MySQL database\n",
    "connection = mysql.connector.connect(\n",
    "    host=\"localhost\",\n",
    "    user=\"root\",    # Change this to your MySQL username\n",
    "    password=\"root\",  # Change this to your MySQL password\n",
    "    database=\"student_management\"\n",
    ")\n",
    "\n",
    "cursor = connection.cursor()\n",
    "\n",
    "# Function to add a student\n",
    "def add_student(name, age, course):\n",
    "    sql = \"INSERT INTO students (name, age, course, fees_paid) VALUES (%s, %s, %s, %s)\"\n",
    "    values = (name, age, course, False)\n",
    "    cursor.execute(sql, values)\n",
    "    connection.commit()\n",
    "    print(f\"Student {name} added successfully!\")\n",
    "\n",
    "# Function to retrieve all students\n",
    "def get_all_students():\n",
    "    cursor.execute(\"SELECT * FROM students\")\n",
    "    result = cursor.fetchall()\n",
    "    return result\n",
    "\n",
    "# Function to update fees status\n",
    "def update_fees(student_id, fees_paid):\n",
    "    sql = \"UPDATE students SET fees_paid = %s WHERE student_id = %s\"\n",
    "    values = (fees_paid, student_id)\n",
    "    cursor.execute(sql, values)\n",
    "    connection.commit()\n",
    "    print(f\"Fees status updated for Student ID {student_id}\")\n",
    "\n",
    "# Function to assign teacher to a student\n",
    "def assign_teacher(teacher_name, subject, student_id):\n",
    "    sql = \"INSERT INTO teachers (name, subject, assigned_to) VALUES (%s, %s, %s)\"\n",
    "    values = (teacher_name, subject, student_id)\n",
    "    cursor.execute(sql, values)\n",
    "    connection.commit()\n",
    "    print(f\"Teacher {teacher_name} assigned to Student ID {student_id}\")\n",
    "\n",
    "# Function to save students to CSV\n",
    "def save_students_to_csv(file_name):\n",
    "    students = get_all_students()\n",
    "    with open(file_name, mode='w', newline='') as file:\n",
    "        writer = csv.writer(file)\n",
    "        writer.writerow(['Student ID', 'Name', 'Age', 'Course', 'Fees Paid'])\n",
    "        for student in students:\n",
    "            writer.writerow(student)\n",
    "    print(f\"Student data saved to {file_name}\")\n",
    "\n",
    "# Function to load students from CSV into the database\n",
    "def load_students_from_csv(file_name):\n",
    "    with open(file_name, mode='r') as file:\n",
    "        reader = csv.DictReader(file)\n",
    "        for row in reader:\n",
    "            add_student(row['Name'], int(row['Age']), row['Course'])\n",
    "    print(f\"Student data loaded from {file_name}\")\n",
    "\n",
    "# Function to display students in the terminal\n",
    "def display_students():\n",
    "    students = get_all_students()\n",
    "    print(\"\\n--- Student Records ---\")\n",
    "    for student in students:\n",
    "        print(f\"ID: {student[0]}, Name: {student[1]}, Age: {student[2]}, Course: {student[3]}, Fees Paid: {student[4]}\")\n",
    "    print(\"-----------------------\")\n",
    "\n",
    "# Main function to handle user inputs and call the relevant functions\n",
    "def main():\n",
    "    while True:\n",
    "        print(\"\\n--- Student Management System ---\")\n",
    "        print(\"1. Add a Student\")\n",
    "        print(\"2. Update Fees Status\")\n",
    "        print(\"3. Assign Teacher to a Student\")\n",
    "        print(\"4. Save Students to CSV\")\n",
    "        print(\"5. Load Students from CSV\")\n",
    "        print(\"6. Display Students\")\n",
    "        print(\"7. Exit\")\n",
    "        \n",
    "        choice = input(\"Enter your choice (1-7): \")\n",
    "\n",
    "        if choice == '1':\n",
    "            name = input(\"Enter student's name: \")\n",
    "            age = int(input(\"Enter student's age: \"))\n",
    "            course = input(\"Enter student's course: \")\n",
    "            add_student(name, age, course)\n",
    "\n",
    "        elif choice == '2':\n",
    "            student_id = int(input(\"Enter student ID to update fees status: \"))\n",
    "            fees_paid = input(\"Has the student paid the fees? (yes/no): \").lower() == 'yes'\n",
    "            update_fees(student_id, fees_paid)\n",
    "\n",
    "        elif choice == '3':\n",
    "            teacher_name = input(\"Enter teacher's name: \")\n",
    "            subject = input(\"Enter teacher's subject: \")\n",
    "            student_id = int(input(\"Enter student ID to assign teacher to: \"))\n",
    "            assign_teacher(teacher_name, subject, student_id)\n",
    "\n",
    "        elif choice == '4':\n",
    "            file_name = input(\"Enter the file name to save student data (e.g., students.csv): \")\n",
    "            save_students_to_csv(file_name)\n",
    "\n",
    "        elif choice == '5':\n",
    "            file_name = input(\"Enter the file name to load student data from (e.g., students.csv): \")\n",
    "            load_students_from_csv(file_name)\n",
    "\n",
    "        elif choice == '6':\n",
    "            display_students()\n",
    "\n",
    "        elif choice == '7':\n",
    "            print(\"Exiting the program...\")\n",
    "            break\n",
    "\n",
    "        else:\n",
    "            print(\"Invalid choice! Please try again.\")\n",
    "\n",
    "# Calling the main function to start the program\n",
    "if __name__ == \"__main__\":\n",
    "    main()\n",
    "\n",
    "# Close the MySQL connection when done\n",
    "connection.close()\n"
   ]
  },
  {
   "cell_type": "code",
   "execution_count": null,
   "id": "de8f28b2-2d19-49ec-bd20-8357fed14f42",
   "metadata": {},
   "outputs": [],
   "source": []
  }
 ],
 "metadata": {
  "kernelspec": {
   "display_name": "Python 3 (ipykernel)",
   "language": "python",
   "name": "python3"
  },
  "language_info": {
   "codemirror_mode": {
    "name": "ipython",
    "version": 3
   },
   "file_extension": ".py",
   "mimetype": "text/x-python",
   "name": "python",
   "nbconvert_exporter": "python",
   "pygments_lexer": "ipython3",
   "version": "3.12.4"
  }
 },
 "nbformat": 4,
 "nbformat_minor": 5
}
